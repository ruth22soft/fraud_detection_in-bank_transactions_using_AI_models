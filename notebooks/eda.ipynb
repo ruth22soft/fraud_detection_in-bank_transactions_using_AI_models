{
 "cells": [
  {
   "cell_type": "markdown",
   "id": "e2e126e2",
   "metadata": {},
   "source": [
    "Load the CSV files\n"
   ]
  },
  {
   "cell_type": "code",
   "execution_count": 3,
   "id": "6b9ff672",
   "metadata": {},
   "outputs": [
    {
     "name": "stdout",
     "output_type": "stream",
     "text": [
      "Collecting pandas\n",
      "  Using cached pandas-2.3.1-cp312-cp312-win_amd64.whl.metadata (19 kB)\n",
      "Collecting numpy\n",
      "  Using cached numpy-2.3.1-cp312-cp312-win_amd64.whl.metadata (60 kB)\n",
      "Collecting matplotlib\n",
      "  Using cached matplotlib-3.10.3-cp312-cp312-win_amd64.whl.metadata (11 kB)\n",
      "Collecting seaborn\n",
      "  Using cached seaborn-0.13.2-py3-none-any.whl.metadata (5.4 kB)\n",
      "Collecting scikit-learn\n",
      "  Downloading scikit_learn-1.7.1-cp312-cp312-win_amd64.whl.metadata (11 kB)\n",
      "Note: you may need to restart the kernel to use updated packages.\n"
     ]
    },
    {
     "name": "stderr",
     "output_type": "stream",
     "text": [
      "ERROR: Ignored the following versions that require a different python version: 1.21.2 Requires-Python >=3.7,<3.11; 1.21.3 Requires-Python >=3.7,<3.11; 1.21.4 Requires-Python >=3.7,<3.11; 1.21.5 Requires-Python >=3.7,<3.11; 1.21.6 Requires-Python >=3.7,<3.11\n",
      "ERROR: Could not find a version that satisfies the requirement imbalanced-learnnstall (from versions: none)\n",
      "\n",
      "[notice] A new release of pip is available: 24.2 -> 25.1.1\n",
      "[notice] To update, run: python.exe -m pip install --upgrade pip\n",
      "ERROR: No matching distribution found for imbalanced-learnnstall\n"
     ]
    }
   ],
   "source": [
    "pip install pandas numpy matplotlib seaborn scikit-learn imbalanced-learnnstall pandas zipfile"
   ]
  },
  {
   "cell_type": "markdown",
   "id": "3f2f379c",
   "metadata": {},
   "source": [
    "Extraction of zip file"
   ]
  },
  {
   "cell_type": "code",
   "execution_count": null,
   "id": "24047885",
   "metadata": {},
   "outputs": [],
   "source": [
    "import zipfile\n",
    "\n",
    "# Extract CSV from ZIP (if needed)\n",
    "with zipfile.ZipFile('../data/raw/creditcard.csv.zip', 'r') as zip_ref:\n",
    "    zip_ref.extractall('extracted_data')\n",
    "\n"
   ]
  },
  {
   "cell_type": "markdown",
   "id": "9f752eb9",
   "metadata": {},
   "source": [
    "Load the data"
   ]
  },
  {
   "cell_type": "code",
   "execution_count": 12,
   "id": "9b104207",
   "metadata": {},
   "outputs": [
    {
     "name": "stdout",
     "output_type": "stream",
     "text": [
      "   user_id          signup_time        purchase_time  purchase_value  \\\n",
      "0    22058  2015-02-24 22:55:49  2015-04-18 02:47:11              34   \n",
      "1   333320  2015-06-07 20:39:50  2015-06-08 01:38:54              16   \n",
      "2     1359  2015-01-01 18:52:44  2015-01-01 18:52:45              15   \n",
      "3   150084  2015-04-28 21:13:25  2015-05-04 13:54:50              44   \n",
      "4   221365  2015-07-21 07:09:52  2015-09-09 18:40:53              39   \n",
      "\n",
      "       device_id source browser sex  age    ip_address  class  \n",
      "0  QVPSPJUOCKZAR    SEO  Chrome   M   39  7.327584e+08      0  \n",
      "1  EOGFQPIZPYXFZ    Ads  Chrome   F   53  3.503114e+08      0  \n",
      "2  YSSKYOSJHPPLJ    SEO   Opera   M   53  2.621474e+09      1  \n",
      "3  ATGTXKYKUDUQN    SEO  Safari   M   41  3.840542e+09      0  \n",
      "4  NAUITBZFJKHWW    Ads  Safari   M   45  4.155831e+08      0  \n",
      "   lower_bound_ip_address  upper_bound_ip_address    country\n",
      "0              16777216.0                16777471  Australia\n",
      "1              16777472.0                16777727      China\n",
      "2              16777728.0                16778239      China\n",
      "3              16778240.0                16779263  Australia\n",
      "4              16779264.0                16781311      China\n",
      "   Time        V1        V2        V3        V4        V5        V6        V7  \\\n",
      "0   0.0 -1.359807 -0.072781  2.536347  1.378155 -0.338321  0.462388  0.239599   \n",
      "1   0.0  1.191857  0.266151  0.166480  0.448154  0.060018 -0.082361 -0.078803   \n",
      "2   1.0 -1.358354 -1.340163  1.773209  0.379780 -0.503198  1.800499  0.791461   \n",
      "3   1.0 -0.966272 -0.185226  1.792993 -0.863291 -0.010309  1.247203  0.237609   \n",
      "4   2.0 -1.158233  0.877737  1.548718  0.403034 -0.407193  0.095921  0.592941   \n",
      "\n",
      "         V8        V9  ...       V21       V22       V23       V24       V25  \\\n",
      "0  0.098698  0.363787  ... -0.018307  0.277838 -0.110474  0.066928  0.128539   \n",
      "1  0.085102 -0.255425  ... -0.225775 -0.638672  0.101288 -0.339846  0.167170   \n",
      "2  0.247676 -1.514654  ...  0.247998  0.771679  0.909412 -0.689281 -0.327642   \n",
      "3  0.377436 -1.387024  ... -0.108300  0.005274 -0.190321 -1.175575  0.647376   \n",
      "4 -0.270533  0.817739  ... -0.009431  0.798278 -0.137458  0.141267 -0.206010   \n",
      "\n",
      "        V26       V27       V28  Amount  Class  \n",
      "0 -0.189115  0.133558 -0.021053  149.62      0  \n",
      "1  0.125895 -0.008983  0.014724    2.69      0  \n",
      "2 -0.139097 -0.055353 -0.059752  378.66      0  \n",
      "3 -0.221929  0.062723  0.061458  123.50      0  \n",
      "4  0.502292  0.219422  0.215153   69.99      0  \n",
      "\n",
      "[5 rows x 31 columns]\n"
     ]
    }
   ],
   "source": [
    "import pandas as pd\n",
    "\n",
    "fraud_data = pd.read_csv('../data/raw/Fraud_Data.csv')\n",
    "print(fraud_data.head())\n",
    "ip_to_country = pd.read_csv('../data/raw/IPAddress_to_Country.csv')\n",
    "print(ip_to_country.head())\n",
    "credit_data = pd.read_csv('../data/raw/creditcard.csv')\n",
    "print(credit_data.head())\n"
   ]
  },
  {
   "cell_type": "code",
   "execution_count": 14,
   "id": "591ec901",
   "metadata": {},
   "outputs": [],
   "source": [
    "fraud_df = fraud_data.drop_duplicates()\n",
    "ip_to_country_df = ip_to_country.drop_duplicates()\n",
    "credit_df = credit_data.drop_duplicates()"
   ]
  },
  {
   "cell_type": "markdown",
   "id": "0ad5e2a5",
   "metadata": {},
   "source": [
    "drop missing values"
   ]
  },
  {
   "cell_type": "code",
   "execution_count": null,
   "id": "64c630e7",
   "metadata": {},
   "outputs": [],
   "source": [
    "fraud_df = fraud_data.dropna()\n",
    "ip_to_country_df = ip_to_country.dropna()\n",
    "credit_df = credit_data.dropna()"
   ]
  },
  {
   "cell_type": "markdown",
   "id": "1554f7cf",
   "metadata": {},
   "source": [
    "Correct data types"
   ]
  },
  {
   "cell_type": "code",
   "execution_count": null,
   "id": "f59c9d8a",
   "metadata": {},
   "outputs": [],
   "source": [
    "# Convert to datetime\n",
    "fraud_df['signup_time'] = pd.to_datetime(fraud_df['signup_time'])\n",
    "fraud_df['purchase_time'] = pd.to_datetime(fraud_df['purchase_time'])\n",
    "\n"
   ]
  },
  {
   "cell_type": "code",
   "execution_count": 17,
   "id": "c7a7d4d8",
   "metadata": {},
   "outputs": [],
   "source": [
    "# Convert ip_address to integer\n",
    "fraud_data['ip_address'] = fraud_data['ip_address'].astype('int64')\n",
    "ip_to_country['lower_bound_ip_address'] = ip_to_country['lower_bound_ip_address'].astype('int64')\n",
    "ip_to_country['upper_bound_ip_address'] = ip_to_country['upper_bound_ip_address'].astype('int64')\n"
   ]
  },
  {
   "cell_type": "markdown",
   "id": "59e68dfb",
   "metadata": {},
   "source": [
    "Univariate analysis"
   ]
  },
  {
   "cell_type": "code",
   "execution_count": 19,
   "id": "4fef4ca8",
   "metadata": {},
   "outputs": [
    {
     "name": "stdout",
     "output_type": "stream",
     "text": [
      "count    151112.000000\n",
      "mean         36.935372\n",
      "std          18.322762\n",
      "min           9.000000\n",
      "25%          22.000000\n",
      "50%          35.000000\n",
      "75%          49.000000\n",
      "max         154.000000\n",
      "Name: purchase_value, dtype: float64\n"
     ]
    },
    {
     "data": {
      "image/png": "[encoded data removed]",
      "text/plain": [
       "<Figure size 640x480 with 1 Axes>"
      ]
     },
     "metadata": {},
     "output_type": "display_data"
    }
   ],
   "source": [
    "import pandas as pd\n",
    "import matplotlib.pyplot as plt\n",
    "\n",
    "\n",
    "# Summary statistics for purchase_value\n",
    "print(fraud_data['purchase_value'].describe())\n",
    "\n",
    "# Histogram for purchase_value\n",
    "fraud_data['purchase_value'].hist(bins=30)\n",
    "plt.title('Distribution of Purchase Value')\n",
    "plt.savefig('purchase_value_histogram.png')\n",
    "\n",
    "# Bar plot for class\n",
    "fraud_data['class'].value_counts().plot(kind='bar')\n",
    "plt.title('Class Distribution')\n",
    "plt.savefig('class_distribution.png')"
   ]
  },
  {
   "cell_type": "code",
   "execution_count": 22,
   "id": "5e6b9edb",
   "metadata": {},
   "outputs": [
    {
     "data": {
      "image/png": "[encoded data removed]",
      "text/plain": [
       "<Figure size 640x480 with 1 Axes>"
      ]
     },
     "metadata": {},
     "output_type": "display_data"
    }
   ],
   "source": [
    "import pandas as pd\n",
    "import matplotlib.pyplot as plt\n",
    "\n",
    "\n",
    "# Summary statistics for purchase_value\n",
    "\n",
    "# Histogram for purchase_value\n",
    "fraud_data['purchase_value'].hist(bins=30)\n",
    "plt.title('Distribution of Purchase Value')\n",
    "plt.savefig('purchase_value_histogram.png')\n",
    "\n",
    "# Bar plot for class\n",
    "\n",
    "fraud_data['class'].value_counts().plot(kind='bar')\n",
    "plt.title('Class Distribution')\n",
    "plt.savefig('class_distribution.png')\n",
    "\n",
    "# Bar plot for class\n",
    "fraud_data['age'].value_counts().plot(kind='bar')\n",
    "plt.title('Age Distribution')\n",
    "plt.savefig('age_distribution.png')"
   ]
  }
 ],
 "metadata": {
  "kernelspec": {
   "display_name": ".venv",
   "language": "python",
   "name": "python3"
  },
  "language_info": {
   "codemirror_mode": {
    "name": "ipython",
    "version": 3
   },
   "file_extension": ".py",
   "mimetype": "text/x-python",
   "name": "python",
   "nbconvert_exporter": "python",
   "pygments_lexer": "ipython3",
   "version": "3.12.5"
  }
 },
 "nbformat": 4,
 "nbformat_minor": 5
}
